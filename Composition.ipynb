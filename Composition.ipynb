{
 "cells": [
  {
   "cell_type": "markdown",
   "metadata": {},
   "source": [
    "## Arquivo de entrada FASTA"
   ]
  },
  {
   "cell_type": "code",
   "execution_count": 6,
   "metadata": {},
   "outputs": [],
   "source": [
    "#Passe o caminho abaixo.. Deixe o arquivo no mesmo diretório!\n",
    "diretorio = \"João Lucas-15kmer-resposta.fasta\"\n",
    "arquivo = open(diretorio,mode=\"r\") \n",
    "kmer,sequenciaNucleotideos = arquivo.readlines()\n",
    "arquivo.close()"
   ]
  },
  {
   "cell_type": "markdown",
   "metadata": {},
   "source": [
    "## K-mers gerados em ordem lexicográfica"
   ]
  },
  {
   "cell_type": "code",
   "execution_count": 7,
   "metadata": {},
   "outputs": [],
   "source": [
    "kmer = int(kmer[3:])\n",
    "aux = \"\"\n",
    "kmers = []\n",
    "\n",
    "inicio = 0\n",
    "fim = kmer\n",
    "while(fim<=len(sequenciaNucleotideos)):\n",
    "    kmers.append(sequenciaNucleotideos[inicio:fim])\n",
    "    inicio+=1\n",
    "    fim+=1\n",
    "kmers = sorted(kmers) #Ordem lexicografica\n"
   ]
  },
  {
   "cell_type": "markdown",
   "metadata": {},
   "source": [
    "## Arquivo de saída txt com os kmers gerados"
   ]
  },
  {
   "cell_type": "code",
   "execution_count": 8,
   "metadata": {},
   "outputs": [
    {
     "name": "stdout",
     "output_type": "stream",
     "text": [
      "Resultado Gerado no diretório corrente!\n"
     ]
    }
   ],
   "source": [
    "arquivoGerado = open(\"k\"+str(kmer)+\"mer.txt\",mode=\"w\")\n",
    "arquivoGerado.write(\",\".join(kmers)+\",\")\n",
    "arquivoGerado.close()\n",
    "print(\"Resultado Gerado no diretório corrente!\")"
   ]
  }
 ],
 "metadata": {
  "interpreter": {
   "hash": "b9401ba2cd070fc65b82f27d639c1d04e29d71a1ed16f939e5db9876ac6a0b88"
  },
  "kernelspec": {
   "display_name": "Python 3.9.6 64-bit",
   "language": "python",
   "name": "python3"
  },
  "language_info": {
   "codemirror_mode": {
    "name": "ipython",
    "version": 3
   },
   "file_extension": ".py",
   "mimetype": "text/x-python",
   "name": "python",
   "nbconvert_exporter": "python",
   "pygments_lexer": "ipython3",
   "version": "3.9.6"
  },
  "orig_nbformat": 4
 },
 "nbformat": 4,
 "nbformat_minor": 2
}
