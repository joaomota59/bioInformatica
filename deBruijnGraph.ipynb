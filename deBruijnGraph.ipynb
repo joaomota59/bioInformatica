{
  "cells": [
    {
      "cell_type": "code",
      "execution_count": 1,
      "metadata": {
        "id": "25y1pyReabRM"
      },
      "outputs": [],
      "source": [
        "import networkx as nx\n",
        "from networkx import algorithms"
      ]
    },
    {
      "cell_type": "markdown",
      "metadata": {},
      "source": [
        "## Monta o grafo no formato pathGraph"
      ]
    },
    {
      "cell_type": "code",
      "execution_count": 2,
      "metadata": {},
      "outputs": [],
      "source": [
        "###pathGraph###\n",
        "def pathGraph(entrada,mostraCadaAresta = False):\n",
        "    blocos = entrada.split(\",\")\n",
        "    g = nx.MultiDiGraph()\n",
        "    for bloco in blocos:\n",
        "        g.add_edge(bloco[:-1],bloco[1:],label = bloco)\n",
        "        if mostraCadaAresta: print(bloco[:-1],bloco[1:],bloco)\n",
        "    return g\n",
        "    "
      ]
    },
    {
      "cell_type": "markdown",
      "metadata": {},
      "source": [
        "## Retorna o caminho Euleriano dado o pathGraph como entrada"
      ]
    },
    {
      "cell_type": "code",
      "execution_count": 3,
      "metadata": {},
      "outputs": [],
      "source": [
        "def deBruijn(G,mostraCadaAresta = False) -> str:\n",
        "    caminhoEuleriano = list(algorithms.euler.eulerian_path(G))\n",
        "    sequenciaFinal = \"\"\n",
        "    for index,(origem,destino) in enumerate(caminhoEuleriano):\n",
        "        if index != len(caminhoEuleriano) - 1: \n",
        "            sequenciaFinal +=origem[0]\n",
        "            if mostraCadaAresta : print(origem + \" -> \",end=\"\")\n",
        "        else: \n",
        "            sequenciaFinal +=origem[0] + destino\n",
        "            if mostraCadaAresta : print(origem + \" -> \" +destino)\n",
        "    return sequenciaFinal"
      ]
    },
    {
      "cell_type": "markdown",
      "metadata": {},
      "source": [
        "## Arquivo de Entrada"
      ]
    },
    {
      "cell_type": "code",
      "execution_count": 22,
      "metadata": {
        "id": "SrYGLTPjG7en"
      },
      "outputs": [],
      "source": [
        "#Passe o caminho abaixo.. Deixe o arquivo no mesmo diretório!\n",
        "diretorio = \"Atividade_8.Sequencia.Topicos.TESTE.composicao_1_Bioinformaticas_size_5000_k_15.txt\"\n",
        "arquivo = open(diretorio,mode=\"r\") \n",
        "entrada = arquivo.read()\n",
        "if entrada[-1]==\",\": entrada = entrada[:-1]\n",
        "arquivo.close()\n"
      ]
    },
    {
      "cell_type": "markdown",
      "metadata": {},
      "source": [
        "## Monta o pathGraph"
      ]
    },
    {
      "cell_type": "code",
      "execution_count": 23,
      "metadata": {},
      "outputs": [
        {
          "name": "stdout",
          "output_type": "stream",
          "text": [
            "MultiDiGraph with 4987 nodes and 4986 edges\n"
          ]
        }
      ],
      "source": [
        "G = pathGraph(entrada)\n",
        "print(G)"
      ]
    },
    {
      "cell_type": "markdown",
      "metadata": {},
      "source": [
        "## Gera o resultado em um arquivo txt"
      ]
    },
    {
      "cell_type": "code",
      "execution_count": 24,
      "metadata": {},
      "outputs": [
        {
          "name": "stdout",
          "output_type": "stream",
          "text": [
            "Resultado Gerado no diretório corrente!\n"
          ]
        }
      ],
      "source": [
        "resultado = deBruijn(G)\n",
        "arquivoGerado = open(\"Resultado - \"+diretorio[:-4]+\".txt\",mode=\"w\")\n",
        "arquivoGerado.write(resultado)\n",
        "arquivoGerado.close()\n",
        "print(\"Resultado Gerado no diretório corrente!\")"
      ]
    },
    {
      "cell_type": "markdown",
      "metadata": {},
      "source": [
        "## Plota o Grafo completo"
      ]
    },
    {
      "cell_type": "code",
      "execution_count": 573,
      "metadata": {},
      "outputs": [
        {
          "data": {
            "image/png": "[encoded data removed]",
            "text/plain": [
              "<Figure size 432x288 with 1 Axes>"
            ]
          },
          "metadata": {},
          "output_type": "display_data"
        }
      ],
      "source": [
        "pos=nx.spring_layout(G,scale=1000)\n",
        "nx.draw(G,pos,with_labels = False)\n"
      ]
    }
  ],
  "metadata": {
    "colab": {
      "collapsed_sections": [],
      "name": "deBruijnGraph.ipynb",
      "provenance": []
    },
    "kernelspec": {
      "display_name": "Python 3",
      "name": "python3"
    },
    "language_info": {
      "codemirror_mode": {
        "name": "ipython",
        "version": 3
      },
      "file_extension": ".py",
      "mimetype": "text/x-python",
      "name": "python",
      "nbconvert_exporter": "python",
      "pygments_lexer": "ipython3",
      "version": "3.9.6"
    }
  },
  "nbformat": 4,
  "nbformat_minor": 0
}
